{
  "cells": [
    {
      "cell_type": "markdown",
      "metadata": {
        "id": "xpqaMwD5xzHD"
      },
      "source": [
        "<center>\n",
        "    <img src=\"https://cf-courses-data.s3.us.cloud-object-storage.appdomain.cloud/IBMDeveloperSkillsNetwork-DS0105EN-SkillsNetwork/labs/Module2/images/SN_web_lightmode.png\" width=\"300\" alt=\"cognitiveclass.ai logo\">\n",
        "</center>\n"
      ]
    },
    {
      "cell_type": "markdown",
      "source": [
        "# Tools for data science\n"
      ],
      "metadata": {
        "id": "ayypYixPx4AG"
      }
    },
    {
      "cell_type": "markdown",
      "source": [
        "I am Koyel Bag.Now i am pursuing MCA."
      ],
      "metadata": {
        "id": "fREXc46LyKil"
      }
    },
    {
      "cell_type": "markdown",
      "source": [
        "Languages which are used in data science are- \n",
        "\n",
        "1.   python programming language\n",
        "2.   R programming language\n",
        "3.   SQL \n",
        "4.   java\n",
        "\n",
        "\n",
        "\n"
      ],
      "metadata": {
        "id": "vo58l1XRylnl"
      }
    },
    {
      "cell_type": "markdown",
      "source": [
        "Data Science Libraries-\n",
        "\n",
        "1.  Pandas \n",
        "2.  TensorFlow\n",
        "3.  NumPy\n",
        "4. PyTorch \n",
        "\n"
      ],
      "metadata": {
        "id": "9bNG46w-zV68"
      }
    },
    {
      "cell_type": "markdown",
      "source": [
        "|Sl.no|  Tools|\n",
        "|-----|-------|\n",
        "\n",
        "\n",
        "1.  IBM Watson studio\n",
        "2.  Apache Spark\n",
        "3.  Matlab\n",
        "\n",
        "\n"
      ],
      "metadata": {
        "id": "UQ23ZlM-zwka"
      }
    },
    {
      "cell_type": "markdown",
      "source": [
        "Arithmetic  expression examples -\n",
        "\n",
        "1. 5+3 =8\n",
        "2. 5-3=2\n",
        "3. 5*3=15\n",
        "4. 6/2=3\n",
        "\n",
        "\n",
        "\n",
        "\n"
      ],
      "metadata": {
        "id": "hhioGc-p0sIo"
      }
    },
    {
      "cell_type": "code",
      "source": [
        "5+3"
      ],
      "metadata": {
        "colab": {
          "base_uri": "https://localhost:8080/"
        },
        "id": "dbcwKunt1dlF",
        "outputId": "fabb9dc7-6593-43f8-9b83-e5dde9879992"
      },
      "execution_count": 1,
      "outputs": [
        {
          "output_type": "execute_result",
          "data": {
            "text/plain": [
              "8"
            ]
          },
          "metadata": {},
          "execution_count": 1
        }
      ]
    },
    {
      "cell_type": "code",
      "source": [
        "5*3"
      ],
      "metadata": {
        "colab": {
          "base_uri": "https://localhost:8080/"
        },
        "id": "_SKpCkvG1O1p",
        "outputId": "268d1873-fdd2-46e6-a2ed-2447a4e4b603"
      },
      "execution_count": 2,
      "outputs": [
        {
          "output_type": "execute_result",
          "data": {
            "text/plain": [
              "15"
            ]
          },
          "metadata": {},
          "execution_count": 2
        }
      ]
    },
    {
      "cell_type": "markdown",
      "metadata": {
        "id": "PflUATKBxzHI"
      },
      "source": [
        "#### Add your code below following the instructions given in the course\n"
      ]
    },
    {
      "cell_type": "code",
      "execution_count": 3,
      "metadata": {
        "colab": {
          "base_uri": "https://localhost:8080/"
        },
        "id": "jt-cH2tpxzHJ",
        "outputId": "8637f6de-4e16-4376-eb36-bf77458950b6"
      },
      "outputs": [
        {
          "output_type": "stream",
          "name": "stdout",
          "text": [
            "300\n",
            "5.0\n"
          ]
        }
      ],
      "source": [
        "minutes=int(input())\n",
        "hours=minutes/60\n",
        "print(hours)"
      ]
    },
    {
      "cell_type": "markdown",
      "source": [
        "Data Science Objectives -\n",
        "\n",
        "*   Create data visualization\n",
        "*   Develope Data-driven soluctions\n",
        "*   Build predictive models\n",
        "\n",
        "\n",
        "\n"
      ],
      "metadata": {
        "id": "hVdyrQ2A2V4q"
      }
    },
    {
      "cell_type": "markdown",
      "source": [
        "Author - Koyel Bag"
      ],
      "metadata": {
        "id": "Q9Fra_Go2r4K"
      }
    }
  ],
  "metadata": {
    "kernelspec": {
      "display_name": "Python",
      "language": "python",
      "name": "conda-env-python-py"
    },
    "language_info": {
      "name": ""
    },
    "colab": {
      "provenance": []
    }
  },
  "nbformat": 4,
  "nbformat_minor": 0
}